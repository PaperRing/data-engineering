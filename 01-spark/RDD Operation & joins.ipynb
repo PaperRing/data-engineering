{
 "cells": [
  {
   "cell_type": "code",
   "execution_count": 11,
   "id": "e7347afd",
   "metadata": {},
   "outputs": [],
   "source": [
    "from pyspark import SparkContext, SparkConf\n",
    "from operator import add"
   ]
  },
  {
   "cell_type": "code",
   "execution_count": 2,
   "id": "c21f0c44",
   "metadata": {},
   "outputs": [
    {
     "name": "stderr",
     "output_type": "stream",
     "text": [
      "21/12/30 17:55:20 WARN Utils: Your hostname, jungheeui-MacBookPro.local resolves to a loopback address: 127.0.0.1; using 172.30.123.219 instead (on interface en0)\n",
      "21/12/30 17:55:20 WARN Utils: Set SPARK_LOCAL_IP if you need to bind to another address\n",
      "Using Spark's default log4j profile: org/apache/spark/log4j-defaults.properties\n",
      "Setting default log level to \"WARN\".\n",
      "To adjust logging level use sc.setLogLevel(newLevel). For SparkR, use setLogLevel(newLevel).\n",
      "21/12/30 17:55:20 WARN NativeCodeLoader: Unable to load native-hadoop library for your platform... using builtin-java classes where applicable\n"
     ]
    }
   ],
   "source": [
    "conf = SparkConf().setMaster(\"local\").setAppName(\"test\")\n",
    "sc = SparkContext(conf = conf)"
   ]
  },
  {
   "cell_type": "code",
   "execution_count": null,
   "id": "1d5335f9",
   "metadata": {},
   "outputs": [],
   "source": [
    "#reduce & reduceByKey"
   ]
  },
  {
   "cell_type": "code",
   "execution_count": 6,
   "id": "44d4b06f",
   "metadata": {},
   "outputs": [],
   "source": [
    "rdd = sc.parallelize([1, 1, 2, 3, 5, 8])\n",
    "result = rdd.groupBy(lambda x: x % 2).collect()"
   ]
  },
  {
   "cell_type": "code",
   "execution_count": 9,
   "id": "36d38996",
   "metadata": {},
   "outputs": [
    {
     "data": {
      "text/plain": [
       "[(0, [2, 8]), (1, [1, 1, 3, 5])]"
      ]
     },
     "execution_count": 9,
     "metadata": {},
     "output_type": "execute_result"
    }
   ],
   "source": [
    "sorted([(x, sorted(y)) for (x, y) in result])"
   ]
  },
  {
   "cell_type": "code",
   "execution_count": 10,
   "id": "6509dca8",
   "metadata": {},
   "outputs": [
    {
     "data": {
      "text/plain": [
       "[(1, <pyspark.resultiterable.ResultIterable at 0x7f8d3467fbe0>),\n",
       " (0, <pyspark.resultiterable.ResultIterable at 0x7f8d346fffa0>)]"
      ]
     },
     "execution_count": 10,
     "metadata": {},
     "output_type": "execute_result"
    }
   ],
   "source": [
    "result"
   ]
  },
  {
   "cell_type": "code",
   "execution_count": 16,
   "id": "772472b0",
   "metadata": {},
   "outputs": [
    {
     "data": {
      "text/plain": [
       "20"
      ]
     },
     "execution_count": 16,
     "metadata": {},
     "output_type": "execute_result"
    }
   ],
   "source": [
    "rdd.reduce(add)"
   ]
  },
  {
   "cell_type": "code",
   "execution_count": 14,
   "id": "88f9781a",
   "metadata": {},
   "outputs": [],
   "source": [
    "rdd2 = sc.parallelize([(\"a\", 1), (\"b\", 1), (\"a\", 1)])"
   ]
  },
  {
   "cell_type": "code",
   "execution_count": 15,
   "id": "460dcf37",
   "metadata": {},
   "outputs": [
    {
     "data": {
      "text/plain": [
       "[('a', 2), ('b', 1)]"
      ]
     },
     "execution_count": 15,
     "metadata": {},
     "output_type": "execute_result"
    }
   ],
   "source": [
    "rdd2.reduceByKey(add).collect()"
   ]
  },
  {
   "cell_type": "code",
   "execution_count": null,
   "id": "0970bda3",
   "metadata": {},
   "outputs": [],
   "source": [
    "# count by key"
   ]
  },
  {
   "cell_type": "code",
   "execution_count": 20,
   "id": "640205e0",
   "metadata": {},
   "outputs": [
    {
     "data": {
      "text/plain": [
       "defaultdict(int, {'a': 2, 'b': 1})"
      ]
     },
     "execution_count": 20,
     "metadata": {},
     "output_type": "execute_result"
    }
   ],
   "source": [
    "rdd2.countByKey()"
   ]
  },
  {
   "cell_type": "code",
   "execution_count": 24,
   "id": "7f000d21",
   "metadata": {},
   "outputs": [
    {
     "data": {
      "text/plain": [
       "dict_items([('a', 2), ('b', 1)])"
      ]
     },
     "execution_count": 24,
     "metadata": {},
     "output_type": "execute_result"
    }
   ],
   "source": [
    "rdd2.countByKey().items()"
   ]
  },
  {
   "cell_type": "code",
   "execution_count": null,
   "id": "6ad749c9",
   "metadata": {},
   "outputs": [],
   "source": [
    "# joins"
   ]
  },
  {
   "cell_type": "code",
   "execution_count": 25,
   "id": "25ff6f7a",
   "metadata": {},
   "outputs": [],
   "source": [
    "rdd3 = sc.parallelize([(\"foo\", 1), (\"bar\", 3), (\"zoo\", 1)])\n",
    "rdd4 = sc.parallelize([(\"foo\", 5), (\"bar\", 1), (\"zoo\", 2), (\"baz\", 1)])"
   ]
  },
  {
   "cell_type": "code",
   "execution_count": 30,
   "id": "557b6466",
   "metadata": {},
   "outputs": [
    {
     "data": {
      "text/plain": [
       "[('foo', (5, 1)), ('bar', (1, 3)), ('zoo', (2, 1))]"
      ]
     },
     "execution_count": 30,
     "metadata": {},
     "output_type": "execute_result"
    }
   ],
   "source": [
    "rdd4.join(rdd3).collect()"
   ]
  },
  {
   "cell_type": "code",
   "execution_count": 31,
   "id": "3b885a90",
   "metadata": {},
   "outputs": [
    {
     "data": {
      "text/plain": [
       "[('foo', (1, 5)), ('bar', (3, 1)), ('zoo', (1, 2))]"
      ]
     },
     "execution_count": 31,
     "metadata": {},
     "output_type": "execute_result"
    }
   ],
   "source": [
    "rdd3.leftOuterJoin(rdd4).collect()"
   ]
  },
  {
   "cell_type": "code",
   "execution_count": 32,
   "id": "ef263be9",
   "metadata": {},
   "outputs": [
    {
     "data": {
      "text/plain": [
       "[('foo', (1, 5)), ('bar', (3, 1)), ('zoo', (1, 2)), ('baz', (None, 1))]"
      ]
     },
     "execution_count": 32,
     "metadata": {},
     "output_type": "execute_result"
    }
   ],
   "source": [
    "rdd3.fullOuterJoin(rdd4).collect()"
   ]
  },
  {
   "cell_type": "code",
   "execution_count": 35,
   "id": "0e616acf",
   "metadata": {},
   "outputs": [],
   "source": [
    "# mapValues"
   ]
  },
  {
   "cell_type": "code",
   "execution_count": 42,
   "id": "c4220ec7",
   "metadata": {},
   "outputs": [
    {
     "data": {
      "text/plain": [
       "[('a', 3), ('b', 1)]"
      ]
     },
     "execution_count": 42,
     "metadata": {},
     "output_type": "execute_result"
    }
   ],
   "source": [
    "x = sc.parallelize([(\"a\", [\"apple\", \"banana\", \"lemon\"]), (\"b\", [\"grapes\"])])\n",
    "\n",
    "def f(x):\n",
    "    return len(x)\n",
    "\n",
    "x.mapValues(f).collect()"
   ]
  },
  {
   "cell_type": "code",
   "execution_count": 44,
   "id": "d899ef65",
   "metadata": {},
   "outputs": [
    {
     "data": {
      "text/plain": [
       "['a', 'b']"
      ]
     },
     "execution_count": 44,
     "metadata": {},
     "output_type": "execute_result"
    }
   ],
   "source": [
    "x.keys().collect()"
   ]
  },
  {
   "cell_type": "code",
   "execution_count": null,
   "id": "ff7812c3",
   "metadata": {},
   "outputs": [],
   "source": []
  },
  {
   "cell_type": "code",
   "execution_count": null,
   "id": "6af330d6",
   "metadata": {},
   "outputs": [],
   "source": []
  }
 ],
 "metadata": {
  "kernelspec": {
   "display_name": "Python 3 (ipykernel)",
   "language": "python",
   "name": "python3"
  },
  "language_info": {
   "codemirror_mode": {
    "name": "ipython",
    "version": 3
   },
   "file_extension": ".py",
   "mimetype": "text/x-python",
   "name": "python",
   "nbconvert_exporter": "python",
   "pygments_lexer": "ipython3",
   "version": "3.9.7"
  }
 },
 "nbformat": 4,
 "nbformat_minor": 5
}
