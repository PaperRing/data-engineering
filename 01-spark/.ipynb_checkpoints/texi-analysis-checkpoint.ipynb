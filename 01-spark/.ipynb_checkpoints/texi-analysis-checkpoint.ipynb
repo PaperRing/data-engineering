{
 "cells": [
  {
   "cell_type": "code",
   "execution_count": 2,
   "id": "98e68c59",
   "metadata": {},
   "outputs": [],
   "source": [
    "from pyspark.sql import SparkSession"
   ]
  },
  {
   "cell_type": "code",
   "execution_count": 3,
   "id": "c06f70dd",
   "metadata": {},
   "outputs": [
    {
     "name": "stderr",
     "output_type": "stream",
     "text": [
      "Using Spark's default log4j profile: org/apache/spark/log4j-defaults.properties\n",
      "Setting default log level to \"WARN\".\n",
      "To adjust logging level use sc.setLogLevel(newLevel). For SparkR, use setLogLevel(newLevel).\n",
      "22/01/14 11:15:47 WARN NativeCodeLoader: Unable to load native-hadoop library for your platform... using builtin-java classes where applicable\n"
     ]
    }
   ],
   "source": [
    "spark = SparkSession.builder.appName(\"texi-analysis\").getOrCreate()"
   ]
  },
  {
   "cell_type": "code",
   "execution_count": 4,
   "id": "eae05add",
   "metadata": {},
   "outputs": [],
   "source": [
    "trip_files = \"/Users/junghee/data-engineering/01-spark/data/trips/*\"\n",
    "zone_file = \"/Users/junghee/data-engineering/01-spark/data/taxi+_zone_lookup.csv\""
   ]
  },
  {
   "cell_type": "code",
   "execution_count": 5,
   "id": "2bb43aab",
   "metadata": {},
   "outputs": [
    {
     "name": "stderr",
     "output_type": "stream",
     "text": [
      "                                                                                \r"
     ]
    }
   ],
   "source": [
    "trip_df = spark.read.csv(f\"file:///{trip_files}\", inferSchema=True, header=True)\n",
    "zone_df = spark.read.csv(f\"file:///{zone_file}\", inferSchema=True, header=True )"
   ]
  },
  {
   "cell_type": "code",
   "execution_count": 6,
   "id": "0b6a6027",
   "metadata": {},
   "outputs": [
    {
     "name": "stdout",
     "output_type": "stream",
     "text": [
      "root\n",
      " |-- VendorID: integer (nullable = true)\n",
      " |-- tpep_pickup_datetime: string (nullable = true)\n",
      " |-- tpep_dropoff_datetime: string (nullable = true)\n",
      " |-- passenger_count: integer (nullable = true)\n",
      " |-- trip_distance: double (nullable = true)\n",
      " |-- RatecodeID: integer (nullable = true)\n",
      " |-- store_and_fwd_flag: string (nullable = true)\n",
      " |-- PULocationID: integer (nullable = true)\n",
      " |-- DOLocationID: integer (nullable = true)\n",
      " |-- payment_type: integer (nullable = true)\n",
      " |-- fare_amount: double (nullable = true)\n",
      " |-- extra: double (nullable = true)\n",
      " |-- mta_tax: double (nullable = true)\n",
      " |-- tip_amount: double (nullable = true)\n",
      " |-- tolls_amount: double (nullable = true)\n",
      " |-- improvement_surcharge: double (nullable = true)\n",
      " |-- total_amount: double (nullable = true)\n",
      " |-- congestion_surcharge: double (nullable = true)\n",
      "\n",
      "root\n",
      " |-- LocationID: integer (nullable = true)\n",
      " |-- Borough: string (nullable = true)\n",
      " |-- Zone: string (nullable = true)\n",
      " |-- service_zone: string (nullable = true)\n",
      "\n"
     ]
    }
   ],
   "source": [
    "trip_df.printSchema()\n",
    "zone_df.printSchema()"
   ]
  },
  {
   "cell_type": "code",
   "execution_count": 7,
   "id": "e66fdbc6",
   "metadata": {},
   "outputs": [],
   "source": [
    "trip_df.createOrReplaceTempView(\"trip\")\n",
    "zone_df.createOrReplaceTempView(\"zone\")"
   ]
  },
  {
   "cell_type": "code",
   "execution_count": 8,
   "id": "160c4456",
   "metadata": {},
   "outputs": [],
   "source": [
    "query = \"\"\"\n",
    "SELECT \n",
    "    t.VendorID as venderID,\n",
    "    TO_DATE(t.tpep_pickup_datetime) as pickup_date,\n",
    "    TO_DATE(t.tpep_dropoff_datetime) as dropoff_date,\n",
    "    HOUR(t.tpep_pickup_datetime) as pickup_time,\n",
    "    HOUR(t.tpep_dropoff_datetime) as dropoff_time,\n",
    "    trip_distance,\n",
    "    t.fare_amount,\n",
    "    t.tip_amount,\n",
    "    t.tolls_amount,\n",
    "    t.total_amount,\n",
    "    t.payment_type,\n",
    "    pz.Zone as pickup_zone,\n",
    "    dz.Zone as dropoff_zone\n",
    "FROM \n",
    "    trip t\n",
    "LEFT JOIN\n",
    "        zone pz\n",
    "    ON t.PULocationID = pz.LocationID\n",
    "LEFT JOIN \n",
    "        zone dz\n",
    "    ON t.DOLocationID = dz.LocationID\n",
    "\"\"\"\n",
    "\n",
    "comb_df = spark.sql(query)\n",
    "comb_df.createOrReplaceTempView(\"comb\")"
   ]
  },
  {
   "cell_type": "code",
   "execution_count": 11,
   "id": "c827304b",
   "metadata": {},
   "outputs": [
    {
     "name": "stdout",
     "output_type": "stream",
     "text": [
      "root\n",
      " |-- venderID: integer (nullable = true)\n",
      " |-- pickup_date: date (nullable = true)\n",
      " |-- dropoff_date: date (nullable = true)\n",
      " |-- pickup_time: integer (nullable = true)\n",
      " |-- dropoff_time: integer (nullable = true)\n",
      " |-- trip_distance: double (nullable = true)\n",
      " |-- fare_amount: double (nullable = true)\n",
      " |-- tip_amount: double (nullable = true)\n",
      " |-- tolls_amount: double (nullable = true)\n",
      " |-- total_amount: double (nullable = true)\n",
      " |-- payment_type: integer (nullable = true)\n",
      " |-- pickup_zone: string (nullable = true)\n",
      " |-- dropoff_zone: string (nullable = true)\n",
      "\n"
     ]
    }
   ],
   "source": [
    "comb_df.printSchema()"
   ]
  },
  {
   "cell_type": "code",
   "execution_count": null,
   "id": "1e270e42",
   "metadata": {},
   "outputs": [],
   "source": []
  }
 ],
 "metadata": {
  "kernelspec": {
   "display_name": "Python 3 (ipykernel)",
   "language": "python",
   "name": "python3"
  },
  "language_info": {
   "codemirror_mode": {
    "name": "ipython",
    "version": 3
   },
   "file_extension": ".py",
   "mimetype": "text/x-python",
   "name": "python",
   "nbconvert_exporter": "python",
   "pygments_lexer": "ipython3",
   "version": "3.9.7"
  }
 },
 "nbformat": 4,
 "nbformat_minor": 5
}
